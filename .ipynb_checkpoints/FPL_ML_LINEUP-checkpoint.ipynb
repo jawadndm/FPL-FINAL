{
 "cells": [
  {
   "cell_type": "code",
   "execution_count": 41,
   "id": "c14766ed",
   "metadata": {},
   "outputs": [],
   "source": [
    "#Import libraries.\n",
    "import pandas as pd\n",
    "import numpy as np\n",
    "\n",
    "import warnings\n",
    "warnings.filterwarnings(\"ignore\")"
   ]
  },
  {
   "cell_type": "code",
   "execution_count": 42,
   "id": "e3cc907e",
   "metadata": {},
   "outputs": [],
   "source": [
    "pd.set_option('display.max_columns', None)"
   ]
  },
  {
   "cell_type": "markdown",
   "id": "5aaea43a",
   "metadata": {},
   "source": [
    "## Model Testing"
   ]
  },
  {
   "cell_type": "code",
   "execution_count": 43,
   "id": "2c435f09",
   "metadata": {},
   "outputs": [],
   "source": [
    "#Import libraries for Model Testing. \n",
    "from sklearn.ensemble import RandomForestRegressor\n",
    "from itertools import permutations\n",
    "from sklearn.metrics import mean_squared_error"
   ]
  },
  {
   "cell_type": "code",
   "execution_count": 44,
   "id": "712ed872",
   "metadata": {},
   "outputs": [],
   "source": [
    "gameweek = 25"
   ]
  },
  {
   "cell_type": "code",
   "execution_count": 45,
   "id": "73711dad",
   "metadata": {},
   "outputs": [],
   "source": [
    "toRun = pd.read_csv('data/fpl_data.csv')\n",
    "toRun.drop(['kickoff_time'], axis = 1, inplace = True)\n",
    "\n",
    "toRun = pd.get_dummies(toRun, columns = ['position'], drop_first=True)\n",
    "\n",
    "testSet = toRun.loc[((toRun['season_x'] == '2021-22') & (toRun['GW'] == gameweek))]\n",
    "trainingSet = toRun.loc[((toRun['season_x'] == '2021-22') & (toRun['GW'] != gameweek))\n",
    "                        |(toRun['season_x'] == '2016-17')|(toRun['season_x'] == '2017-18')\n",
    "                       |(toRun['season_x'] == '2018-19')|(toRun['season_x'] == '2019-20')|(toRun['season_x'] == '2020-21')]\n",
    "\n",
    "x_test = testSet.loc[:,[i for i in list(testSet.columns) if i not in ['total_points', 'name', 'season_x','opp_team_name','team_x']]]\n",
    "y_test = pd.DataFrame(testSet.loc[:, testSet.columns == 'total_points'])\n",
    "\n",
    "x_train = trainingSet.loc[:,[i for i in list(trainingSet.columns) if i not in ['total_points','name', 'season_x','opp_team_name','team_x']]]\n",
    "y_train = pd.DataFrame(trainingSet.loc[:, trainingSet.columns == 'total_points'])"
   ]
  },
  {
   "cell_type": "code",
   "execution_count": 46,
   "id": "92e35481",
   "metadata": {},
   "outputs": [
    {
     "data": {
      "text/html": [
       "<style>#sk-container-id-2 {color: black;background-color: white;}#sk-container-id-2 pre{padding: 0;}#sk-container-id-2 div.sk-toggleable {background-color: white;}#sk-container-id-2 label.sk-toggleable__label {cursor: pointer;display: block;width: 100%;margin-bottom: 0;padding: 0.3em;box-sizing: border-box;text-align: center;}#sk-container-id-2 label.sk-toggleable__label-arrow:before {content: \"▸\";float: left;margin-right: 0.25em;color: #696969;}#sk-container-id-2 label.sk-toggleable__label-arrow:hover:before {color: black;}#sk-container-id-2 div.sk-estimator:hover label.sk-toggleable__label-arrow:before {color: black;}#sk-container-id-2 div.sk-toggleable__content {max-height: 0;max-width: 0;overflow: hidden;text-align: left;background-color: #f0f8ff;}#sk-container-id-2 div.sk-toggleable__content pre {margin: 0.2em;color: black;border-radius: 0.25em;background-color: #f0f8ff;}#sk-container-id-2 input.sk-toggleable__control:checked~div.sk-toggleable__content {max-height: 200px;max-width: 100%;overflow: auto;}#sk-container-id-2 input.sk-toggleable__control:checked~label.sk-toggleable__label-arrow:before {content: \"▾\";}#sk-container-id-2 div.sk-estimator input.sk-toggleable__control:checked~label.sk-toggleable__label {background-color: #d4ebff;}#sk-container-id-2 div.sk-label input.sk-toggleable__control:checked~label.sk-toggleable__label {background-color: #d4ebff;}#sk-container-id-2 input.sk-hidden--visually {border: 0;clip: rect(1px 1px 1px 1px);clip: rect(1px, 1px, 1px, 1px);height: 1px;margin: -1px;overflow: hidden;padding: 0;position: absolute;width: 1px;}#sk-container-id-2 div.sk-estimator {font-family: monospace;background-color: #f0f8ff;border: 1px dotted black;border-radius: 0.25em;box-sizing: border-box;margin-bottom: 0.5em;}#sk-container-id-2 div.sk-estimator:hover {background-color: #d4ebff;}#sk-container-id-2 div.sk-parallel-item::after {content: \"\";width: 100%;border-bottom: 1px solid gray;flex-grow: 1;}#sk-container-id-2 div.sk-label:hover label.sk-toggleable__label {background-color: #d4ebff;}#sk-container-id-2 div.sk-serial::before {content: \"\";position: absolute;border-left: 1px solid gray;box-sizing: border-box;top: 0;bottom: 0;left: 50%;z-index: 0;}#sk-container-id-2 div.sk-serial {display: flex;flex-direction: column;align-items: center;background-color: white;padding-right: 0.2em;padding-left: 0.2em;position: relative;}#sk-container-id-2 div.sk-item {position: relative;z-index: 1;}#sk-container-id-2 div.sk-parallel {display: flex;align-items: stretch;justify-content: center;background-color: white;position: relative;}#sk-container-id-2 div.sk-item::before, #sk-container-id-2 div.sk-parallel-item::before {content: \"\";position: absolute;border-left: 1px solid gray;box-sizing: border-box;top: 0;bottom: 0;left: 50%;z-index: -1;}#sk-container-id-2 div.sk-parallel-item {display: flex;flex-direction: column;z-index: 1;position: relative;background-color: white;}#sk-container-id-2 div.sk-parallel-item:first-child::after {align-self: flex-end;width: 50%;}#sk-container-id-2 div.sk-parallel-item:last-child::after {align-self: flex-start;width: 50%;}#sk-container-id-2 div.sk-parallel-item:only-child::after {width: 0;}#sk-container-id-2 div.sk-dashed-wrapped {border: 1px dashed gray;margin: 0 0.4em 0.5em 0.4em;box-sizing: border-box;padding-bottom: 0.4em;background-color: white;}#sk-container-id-2 div.sk-label label {font-family: monospace;font-weight: bold;display: inline-block;line-height: 1.2em;}#sk-container-id-2 div.sk-label-container {text-align: center;}#sk-container-id-2 div.sk-container {/* jupyter's `normalize.less` sets `[hidden] { display: none; }` but bootstrap.min.css set `[hidden] { display: none !important; }` so we also need the `!important` here to be able to override the default hidden behavior on the sphinx rendered scikit-learn.org. See: https://github.com/scikit-learn/scikit-learn/issues/21755 */display: inline-block !important;position: relative;}#sk-container-id-2 div.sk-text-repr-fallback {display: none;}</style><div id=\"sk-container-id-2\" class=\"sk-top-container\"><div class=\"sk-text-repr-fallback\"><pre>RandomForestRegressor(min_samples_split=5, n_estimators=300)</pre><b>In a Jupyter environment, please rerun this cell to show the HTML representation or trust the notebook. <br />On GitHub, the HTML representation is unable to render, please try loading this page with nbviewer.org.</b></div><div class=\"sk-container\" hidden><div class=\"sk-item\"><div class=\"sk-estimator sk-toggleable\"><input class=\"sk-toggleable__control sk-hidden--visually\" id=\"sk-estimator-id-2\" type=\"checkbox\" checked><label for=\"sk-estimator-id-2\" class=\"sk-toggleable__label sk-toggleable__label-arrow\">RandomForestRegressor</label><div class=\"sk-toggleable__content\"><pre>RandomForestRegressor(min_samples_split=5, n_estimators=300)</pre></div></div></div></div></div>"
      ],
      "text/plain": [
       "RandomForestRegressor(min_samples_split=5, n_estimators=300)"
      ]
     },
     "execution_count": 46,
     "metadata": {},
     "output_type": "execute_result"
    }
   ],
   "source": [
    "#Random Forest\n",
    "model = RandomForestRegressor(n_estimators = 300, min_samples_split = 5)\n",
    "model.fit(x_train, y_train)"
   ]
  },
  {
   "cell_type": "code",
   "execution_count": 47,
   "id": "49577557",
   "metadata": {},
   "outputs": [
    {
     "name": "stdout",
     "output_type": "stream",
     "text": [
      "MSE:  0.04153531634946773\n",
      "Accuracy:  99.95846468365053\n"
     ]
    }
   ],
   "source": [
    "#Random Forest MSE & Accuracy\n",
    "pred_y = model.predict(x_test)\n",
    "mse = mean_squared_error(y_test, pred_y)\n",
    "print('MSE: ', mse)\n",
    "print('Accuracy: ', (100-mse))\n",
    "final = testSet.copy(deep = True)\n",
    "final['score'] = pred_y"
   ]
  },
  {
   "cell_type": "code",
   "execution_count": 48,
   "id": "2592d8f6",
   "metadata": {},
   "outputs": [],
   "source": [
    "def teams_limit(cntTeam):\n",
    "    cntTeamSet = list(set(cntTeam))\n",
    "    for i in cntTeamSet:\n",
    "        counter = 0\n",
    "        for j in cntTeam:\n",
    "            if i == j:\n",
    "                counter += 1\n",
    "        if counter > 3:\n",
    "            return False\n",
    "    return True\n",
    "\n",
    "def optimal_lineup(scoresDF, threshold = [3, 8, 9, 6], budget = 850):\n",
    "    formations = [[4, 4, 2], [4, 3, 3], [3, 4, 3], [3, 5, 2], [4, 5, 1], [5, 2, 3],[5,4,1]]\n",
    "    scoresDF = scoresDF.sort_values(by='score', ascending=False)\n",
    "    weekPointsDF = scoresDF.sort_values(by='total_points', ascending=False)\n",
    "    expected=[]\n",
    "    actual=[]\n",
    "    lineup=[]\n",
    "    price=[]  \n",
    "    \n",
    "    pvInd = scoresDF.columns.get_loc(\"value\")\n",
    "    pnInd = scoresDF.columns.get_loc(\"name\")\n",
    "    wpInd = scoresDF.columns.get_loc(\"total_points\")\n",
    "    sInd = scoresDF.columns.get_loc(\"score\")\n",
    "    ptInd = scoresDF.columns.get_loc(\"team_x\")\n",
    "    \n",
    "\n",
    "    def updateCnt(i, df, cntPrice, cntFor, cntActual, cntScore, line, cntTeam, cntMax):\n",
    "        cntPrice += df[i, pvInd]\n",
    "        cntFor.append(df[i, pnInd])\n",
    "        cntActual += df[i, wpInd]\n",
    "        cntScore += df[i, sInd]\n",
    "        cntMax = max(cntMax, df[i, sInd])\n",
    "        cntTeam.append(df[i, ptInd])\n",
    "        return cntPrice, cntFor, cntActual, cntScore, cntTeam, cntMax\n",
    "    \n",
    "    GKs = (scoresDF[scoresDF.position_GK == 1]).values\n",
    "    FWs = (scoresDF[scoresDF.position_FWD == 1]).values\n",
    "    MDs = (scoresDF[scoresDF.position_MID == 1]).values\n",
    "    DFs = (scoresDF[(scoresDF.position_GK == 0) & (scoresDF.position_MID == 0) & (scoresDF.position_FWD == 0)]).values\n",
    "\n",
    "    GKs2 = weekPointsDF[weekPointsDF.position_GK == 1]\n",
    "    FWs2 = weekPointsDF[weekPointsDF.position_FWD == 1]\n",
    "    MDs2 = weekPointsDF[weekPointsDF.position_MID == 1]\n",
    "    DFs2 = weekPointsDF[(weekPointsDF.position_GK == 0) & (weekPointsDF.position_MID == 0) & (weekPointsDF.position_FWD == 0)]\n",
    "    \n",
    "    DreamTeam = []\n",
    "    for i in range(threshold[0]):\n",
    "        DreamTeam.append(GKs2.iloc[i].name)\n",
    "    for i in range(threshold[1]):\n",
    "        DreamTeam.append(DFs2.iloc[i].name)\n",
    "    for i in range(threshold[2]):\n",
    "        DreamTeam.append(MDs2.iloc[i].name)\n",
    "    for i in range(threshold[3]):\n",
    "        DreamTeam.append(FWs2.iloc[i].name)\n",
    "    \n",
    "    for formation in formations:\n",
    "        maxi = 0 \n",
    "        bestFor = 0\n",
    "        bestPrice = 0 \n",
    "        bestActual = 0 \n",
    "        \n",
    "        gkStr = '1' + '0' * (threshold[0] - 1)\n",
    "        gks = list(set([''.join(p) for p in permutations(gkStr)]))\n",
    "\n",
    "        dfStr = '1' * formation[0] + '0' * (threshold[1] - formation[0])\n",
    "        dfs = list(set([''.join(p) for p in permutations(dfStr)]))\n",
    "\n",
    "        mdStr = '1' * formation[1] + '0' * (threshold[2] - formation[1])\n",
    "        mds = list(set([''.join(p) for p in permutations(mdStr)]))\n",
    "\n",
    "        fwStr = '1' * formation[2] + '0' * (threshold[3] - formation[2])\n",
    "        fws = list(set([''.join(p) for p in permutations(fwStr)]))\n",
    "        \n",
    "        #Try all permutations of players\n",
    "        for gk in gks:\n",
    "            for df in dfs:\n",
    "                for md in mds:\n",
    "                    for fw in fws:\n",
    "                        #variables to store cnt permutation (Price - Expected Score - Lineup Names - Actual Score)\n",
    "                        cntPrice = 0\n",
    "                        cntScore = 0\n",
    "                        cntFor = []\n",
    "                        cntActual = 0\n",
    "                        cntMax = 0 # to know maximum expected points lineup to make the highest one as the captain \n",
    "                        cntTeam = []\n",
    "                        for i in range(len(gk)):\n",
    "                            if gk[i] == '1':\n",
    "                                cntPrice, cntFor, cntActual, cntScore, cntTeam, cntMax = updateCnt(i, GKs, cntPrice, cntFor, cntActual, cntScore, 'GKP', cntTeam, cntMax)\n",
    "                        for i in range(len(df)):\n",
    "                            if df[i] == '1':\n",
    "                                cntPrice, cntFor, cntActual, cntScore, cntTeam, cntMax = updateCnt(i, DFs, cntPrice, cntFor, cntActual, cntScore, 'DEF', cntTeam, cntMax)\n",
    "                        for i in range(len(md)):\n",
    "                            if md[i] == '1':\n",
    "                                cntPrice, cntFor, cntActual, cntScore, cntTeam, cntMax = updateCnt(i, MDs, cntPrice, cntFor, cntActual, cntScore, 'MID', cntTeam, cntMax)\n",
    "                        for i in range(len(fw)):\n",
    "                            if fw[i] == '1':\n",
    "                                cntPrice, cntFor, cntActual, cntScore, cntTeam, cntMax = updateCnt(i, FWs, cntPrice, cntFor, cntActual, cntScore, 'FWD', cntTeam, cntMax)\n",
    "                        \n",
    "                        cntScore = cntMax + cntScore # Captain Score is doubled\n",
    "                        if cntPrice <= budget and cntScore > maxi and teams_limit(cntTeam): #Check Budget - Maximum Score - 3 players max from each team \n",
    "                            maxi = cntScore\n",
    "                            bestFor = cntFor\n",
    "                            bestPrice = cntPrice\n",
    "                            bestActual = cntActual\n",
    "        counter = 0\n",
    "        for p in bestFor:\n",
    "            if p in DreamTeam:\n",
    "                counter += 1\n",
    "        bestPercent = counter / 11.0 * 100\n",
    "        \n",
    "        lineup.append(bestFor)\n",
    "        expected.append(maxi)\n",
    "        actual.append(bestActual)\n",
    "        price.append(bestPrice)\n",
    "\n",
    "    return formations,lineup,expected,actual,price"
   ]
  },
  {
   "cell_type": "code",
   "execution_count": 49,
   "id": "49830be9",
   "metadata": {},
   "outputs": [],
   "source": [
    "formations, lineup, expected, actual, price = optimal_lineup(final)"
   ]
  },
  {
   "cell_type": "code",
   "execution_count": 50,
   "id": "a59c4471",
   "metadata": {},
   "outputs": [],
   "source": [
    "formations=['4-4-2','4-3-3','3-4-3','3-5-2','4-5-1','5-2-3','5-4-1']"
   ]
  },
  {
   "cell_type": "code",
   "execution_count": 51,
   "id": "0a5061c3",
   "metadata": {},
   "outputs": [],
   "source": [
    "best_teams = pd.DataFrame(list(zip(formations,price,expected,actual,lineup)),columns=['Formations','Price','Predicted','Actual','Lineup'])"
   ]
  },
  {
   "cell_type": "code",
   "execution_count": 52,
   "id": "e731d7c3",
   "metadata": {},
   "outputs": [
    {
     "data": {
      "text/html": [
       "<div>\n",
       "<style scoped>\n",
       "    .dataframe tbody tr th:only-of-type {\n",
       "        vertical-align: middle;\n",
       "    }\n",
       "\n",
       "    .dataframe tbody tr th {\n",
       "        vertical-align: top;\n",
       "    }\n",
       "\n",
       "    .dataframe thead th {\n",
       "        text-align: right;\n",
       "    }\n",
       "</style>\n",
       "<table border=\"1\" class=\"dataframe\">\n",
       "  <thead>\n",
       "    <tr style=\"text-align: right;\">\n",
       "      <th></th>\n",
       "      <th>Formations</th>\n",
       "      <th>Price</th>\n",
       "      <th>Predicted</th>\n",
       "      <th>Actual</th>\n",
       "      <th>Lineup</th>\n",
       "    </tr>\n",
       "  </thead>\n",
       "  <tbody>\n",
       "    <tr>\n",
       "      <th>0</th>\n",
       "      <td>4-4-2</td>\n",
       "      <td>793</td>\n",
       "      <td>149.966856</td>\n",
       "      <td>131</td>\n",
       "      <td>[Alisson Ramses Becker, Seamus Coleman, Adam W...</td>\n",
       "    </tr>\n",
       "    <tr>\n",
       "      <th>1</th>\n",
       "      <td>4-3-3</td>\n",
       "      <td>750</td>\n",
       "      <td>145.124781</td>\n",
       "      <td>127</td>\n",
       "      <td>[Alisson Ramses Becker, Seamus Coleman, Adam W...</td>\n",
       "    </tr>\n",
       "    <tr>\n",
       "      <th>2</th>\n",
       "      <td>3-4-3</td>\n",
       "      <td>804</td>\n",
       "      <td>144.919544</td>\n",
       "      <td>127</td>\n",
       "      <td>[Alisson Ramses Becker, Seamus Coleman, Adam W...</td>\n",
       "    </tr>\n",
       "    <tr>\n",
       "      <th>3</th>\n",
       "      <td>3-5-2</td>\n",
       "      <td>784</td>\n",
       "      <td>148.962354</td>\n",
       "      <td>131</td>\n",
       "      <td>[Alisson Ramses Becker, Seamus Coleman, Adam W...</td>\n",
       "    </tr>\n",
       "    <tr>\n",
       "      <th>4</th>\n",
       "      <td>4-5-1</td>\n",
       "      <td>782</td>\n",
       "      <td>153.556286</td>\n",
       "      <td>135</td>\n",
       "      <td>[Alisson Ramses Becker, Seamus Coleman, Adam W...</td>\n",
       "    </tr>\n",
       "    <tr>\n",
       "      <th>5</th>\n",
       "      <td>5-2-3</td>\n",
       "      <td>725</td>\n",
       "      <td>143.603773</td>\n",
       "      <td>125</td>\n",
       "      <td>[Alisson Ramses Becker, Seamus Coleman, Adam W...</td>\n",
       "    </tr>\n",
       "    <tr>\n",
       "      <th>6</th>\n",
       "      <td>5-4-1</td>\n",
       "      <td>773</td>\n",
       "      <td>154.462077</td>\n",
       "      <td>136</td>\n",
       "      <td>[Alisson Ramses Becker, Seamus Coleman, Adam W...</td>\n",
       "    </tr>\n",
       "  </tbody>\n",
       "</table>\n",
       "</div>"
      ],
      "text/plain": [
       "  Formations  Price   Predicted  Actual  \\\n",
       "0      4-4-2    793  149.966856     131   \n",
       "1      4-3-3    750  145.124781     127   \n",
       "2      3-4-3    804  144.919544     127   \n",
       "3      3-5-2    784  148.962354     131   \n",
       "4      4-5-1    782  153.556286     135   \n",
       "5      5-2-3    725  143.603773     125   \n",
       "6      5-4-1    773  154.462077     136   \n",
       "\n",
       "                                              Lineup  \n",
       "0  [Alisson Ramses Becker, Seamus Coleman, Adam W...  \n",
       "1  [Alisson Ramses Becker, Seamus Coleman, Adam W...  \n",
       "2  [Alisson Ramses Becker, Seamus Coleman, Adam W...  \n",
       "3  [Alisson Ramses Becker, Seamus Coleman, Adam W...  \n",
       "4  [Alisson Ramses Becker, Seamus Coleman, Adam W...  \n",
       "5  [Alisson Ramses Becker, Seamus Coleman, Adam W...  \n",
       "6  [Alisson Ramses Becker, Seamus Coleman, Adam W...  "
      ]
     },
     "execution_count": 52,
     "metadata": {},
     "output_type": "execute_result"
    }
   ],
   "source": [
    "best_teams"
   ]
  },
  {
   "cell_type": "code",
   "execution_count": 53,
   "id": "63cfbca5",
   "metadata": {},
   "outputs": [],
   "source": [
    "best_teams.to_csv('data/best_predicted_line up.csv')"
   ]
  },
  {
   "cell_type": "code",
   "execution_count": null,
   "id": "6747adc0",
   "metadata": {},
   "outputs": [],
   "source": []
  }
 ],
 "metadata": {
  "kernelspec": {
   "display_name": "Python 3 (ipykernel)",
   "language": "python",
   "name": "python3"
  },
  "language_info": {
   "codemirror_mode": {
    "name": "ipython",
    "version": 3
   },
   "file_extension": ".py",
   "mimetype": "text/x-python",
   "name": "python",
   "nbconvert_exporter": "python",
   "pygments_lexer": "ipython3",
   "version": "3.8.8"
  }
 },
 "nbformat": 4,
 "nbformat_minor": 5
}
